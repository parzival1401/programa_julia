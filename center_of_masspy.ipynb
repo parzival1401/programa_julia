{
 "cells": [
  {
   "cell_type": "code",
   "execution_count": 404,
   "metadata": {},
   "outputs": [
    {
     "data": {
      "text/plain": [
       "([\"/Users/fernandodelgado/Documents/university /summer 2024/intership /data /06-05-24/bead40nm_1.5X_TIRF.mat\", \"/Users/fernandodelgado/Documents/university /summer 2024/intership /data /06-05-24/bead40nm_1.5X_TIRF_110deg.mat\", \"/Users/fernandodelgado/Documents/university /summer 2024/intership /data /06-05-24/bead40nm_1.5X_TIRF_155deg.mat\", \"/Users/fernandodelgado/Documents/university /summer 2024/intership /data /06-05-24/bead40nm_1.5X_TIRF_200deg.mat\", \"/Users/fernandodelgado/Documents/university /summer 2024/intership /data /06-05-24/bead40nm_1.5X_epi.mat\", \"/Users/fernandodelgado/Documents/university /summer 2024/intership /data /06-05-24/bead40nm_1.5X_epi_110deg.mat\", \"/Users/fernandodelgado/Documents/university /summer 2024/intership /data /06-05-24/bead40nm_1.5X_epi_155deg.mat\", \"/Users/fernandodelgado/Documents/university /summer 2024/intership /data /06-05-24/bead40nm_1.5X_epi_200deg.mat\"], Any[[103.0 108.0 … 137.0 116.0; 111.0 105.0 … 119.0 123.0; … ; 102.0 110.0 … 234.0 245.0; 110.0 105.0 … 227.0 272.0;;; 108.0 102.0 … 128.0 115.0; 102.0 112.0 … 127.0 127.0; … ; 107.0 92.0 … 196.0 210.0; 107.0 108.0 … 196.0 210.0;;; 110.0 103.0 … 120.0 113.0; 112.0 105.0 … 118.0 126.0; … ; 106.0 102.0 … 175.0 186.0; 105.0 96.0 … 168.0 221.0;;; … ;;; 125.0 128.0 … 120.0 130.0; 123.0 126.0 … 113.0 127.0; … ; 111.0 115.0 … 215.0 322.0; 112.0 118.0 … 168.0 350.0;;; 138.0 121.0 … 114.0 141.0; 127.0 126.0 … 121.0 147.0; … ; 127.0 119.0 … 247.0 273.0; 112.0 123.0 … 214.0 303.0;;; 115.0 126.0 … 123.0 141.0; 140.0 117.0 … 138.0 140.0; … ; 106.0 115.0 … 206.0 299.0; 114.0 133.0 … 192.0 311.0], [111.0 109.0 … 106.0 112.0; 117.0 106.0 … 103.0 108.0; … ; 100.0 97.0 … 146.0 167.0; 103.0 104.0 … 147.0 158.0;;; 99.0 106.0 … 108.0 109.0; 112.0 103.0 … 99.0 121.0; … ; 102.0 110.0 … 136.0 140.0; 99.0 101.0 … 156.0 158.0;;; 114.0 103.0 … 103.0 111.0; 102.0 107.0 … 106.0 114.0; … ; 105.0 108.0 … 127.0 134.0; 101.0 99.0 … 125.0 143.0;;; … ;;; 123.0 121.0 … 114.0 107.0; 119.0 119.0 … 109.0 117.0; … ; 117.0 110.0 … 166.0 204.0; 102.0 110.0 … 136.0 187.0;;; 120.0 125.0 … 111.0 120.0; 132.0 122.0 … 123.0 124.0; … ; 106.0 108.0 … 138.0 173.0; 110.0 110.0 … 144.0 167.0;;; 128.0 120.0 … 130.0 116.0; 113.0 116.0 … 114.0 121.0; … ; 111.0 109.0 … 166.0 186.0; 111.0 114.0 … 155.0 208.0], [109.0 107.0 … 111.0 102.0; 112.0 107.0 … 103.0 104.0; … ; 101.0 99.0 … 143.0 155.0; 101.0 109.0 … 153.0 161.0;;; 113.0 109.0 … 111.0 103.0; 109.0 106.0 … 106.0 111.0; … ; 106.0 99.0 … 127.0 136.0; 105.0 101.0 … 132.0 129.0;;; 103.0 106.0 … 110.0 102.0; 106.0 99.0 … 108.0 113.0; … ; 101.0 113.0 … 127.0 135.0; 103.0 105.0 … 119.0 135.0;;; … ;;; 115.0 123.0 … 110.0 127.0; 123.0 124.0 … 111.0 111.0; … ; 106.0 113.0 … 148.0 199.0; 108.0 104.0 … 169.0 169.0;;; 125.0 126.0 … 104.0 111.0; 113.0 115.0 … 133.0 123.0; … ; 118.0 110.0 … 127.0 174.0; 116.0 110.0 … 147.0 174.0;;; 124.0 122.0 … 118.0 111.0; 123.0 122.0 … 113.0 122.0; … ; 117.0 112.0 … 147.0 168.0; 102.0 116.0 … 147.0 167.0], [106.0 111.0 … 103.0 118.0; 104.0 109.0 … 106.0 109.0; … ; 106.0 104.0 … 155.0 199.0; 103.0 103.0 … 164.0 178.0;;; 106.0 106.0 … 101.0 107.0; 104.0 107.0 … 107.0 108.0; … ; 101.0 118.0 … 156.0 168.0; 101.0 113.0 … 165.0 174.0;;; 99.0 107.0 … 104.0 113.0; 111.0 111.0 … 103.0 107.0; … ; 101.0 102.0 … 146.0 144.0; 99.0 105.0 … 146.0 169.0;;; … ;;; 121.0 127.0 … 118.0 116.0; 129.0 120.0 … 104.0 123.0; … ; 115.0 124.0 … 160.0 192.0; 115.0 101.0 … 165.0 183.0;;; 109.0 115.0 … 119.0 121.0; 116.0 110.0 … 121.0 129.0; … ; 124.0 134.0 … 132.0 182.0; 124.0 106.0 … 154.0 208.0;;; 130.0 125.0 … 119.0 118.0; 127.0 117.0 … 117.0 114.0; … ; 111.0 112.0 … 144.0 162.0; 115.0 105.0 … 141.0 163.0], [142.0 134.0 … 124.0 126.0; 146.0 145.0 … 116.0 127.0; … ; 134.0 126.0 … 248.0 297.0; 123.0 134.0 … 241.0 298.0;;; 144.0 134.0 … 115.0 135.0; 153.0 131.0 … 118.0 130.0; … ; 120.0 117.0 … 238.0 285.0; 111.0 118.0 … 243.0 276.0;;; 139.0 127.0 … 110.0 121.0; 149.0 139.0 … 129.0 118.0; … ; 107.0 121.0 … 269.0 318.0; 111.0 126.0 … 242.0 308.0;;; … ;;; 165.0 150.0 … 133.0 128.0; 170.0 164.0 … 127.0 138.0; … ; 117.0 121.0 … 176.0 298.0; 114.0 121.0 … 201.0 311.0;;; 157.0 155.0 … 135.0 144.0; 179.0 154.0 … 138.0 138.0; … ; 131.0 113.0 … 196.0 234.0; 118.0 123.0 … 196.0 248.0;;; 171.0 149.0 … 128.0 141.0; 169.0 145.0 … 151.0 137.0; … ; 125.0 140.0 … 185.0 244.0; 120.0 121.0 … 172.0 256.0], [128.0 118.0 … 109.0 99.0; 133.0 114.0 … 106.0 116.0; … ; 113.0 89.0 … 156.0 162.0; 127.0 114.0 … 135.0 156.0;;; 123.0 128.0 … 109.0 125.0; 119.0 125.0 … 103.0 113.0; … ; 114.0 89.0 … 171.0 174.0; 115.0 108.0 … 147.0 169.0;;; 129.0 125.0 … 105.0 121.0; 124.0 111.0 … 111.0 113.0; … ; 112.0 106.0 … 171.0 174.0; 111.0 110.0 … 158.0 188.0;;; … ;;; 155.0 139.0 … 105.0 115.0; 139.0 140.0 … 107.0 116.0; … ; 122.0 117.0 … 155.0 213.0; 111.0 107.0 … 137.0 196.0;;; 139.0 125.0 … 111.0 112.0; 144.0 144.0 … 104.0 117.0; … ; 107.0 107.0 … 147.0 190.0; 114.0 109.0 … 145.0 199.0;;; 153.0 136.0 … 119.0 109.0; 149.0 129.0 … 114.0 121.0; … ; 115.0 107.0 … 127.0 209.0; 105.0 120.0 … 158.0 184.0], [132.0 128.0 … 116.0 113.0; 134.0 116.0 … 106.0 112.0; … ; 112.0 107.0 … 142.0 158.0; 103.0 112.0 … 138.0 135.0;;; 144.0 126.0 … 108.0 112.0; 116.0 122.0 … 108.0 109.0; … ; 114.0 107.0 … 158.0 134.0; 111.0 120.0 … 140.0 166.0;;; 127.0 125.0 … 114.0 106.0; 132.0 122.0 … 103.0 106.0; … ; 111.0 101.0 … 161.0 164.0; 107.0 112.0 … 170.0 172.0;;; … ;;; 158.0 136.0 … 121.0 106.0; 156.0 132.0 … 107.0 108.0; … ; 106.0 113.0 … 156.0 185.0; 108.0 110.0 … 156.0 208.0;;; 165.0 137.0 … 121.0 122.0; 146.0 137.0 … 123.0 119.0; … ; 111.0 104.0 … 129.0 187.0; 102.0 118.0 … 128.0 170.0;;; 147.0 134.0 … 110.0 130.0; 140.0 134.0 … 112.0 113.0; … ; 115.0 113.0 … 139.0 183.0; 116.0 117.0 … 133.0 193.0], [129.0 139.0 … 110.0 109.0; 156.0 126.0 … 104.0 117.0; … ; 110.0 92.0 … 134.0 172.0; 120.0 108.0 … 142.0 155.0;;; 143.0 141.0 … 115.0 116.0; 137.0 130.0 … 126.0 108.0; … ; 127.0 112.0 … 169.0 177.0; 118.0 109.0 … 149.0 161.0;;; 129.0 121.0 … 111.0 117.0; 122.0 115.0 … 109.0 123.0; … ; 109.0 123.0 … 161.0 187.0; 116.0 122.0 … 180.0 174.0;;; … ;;; 142.0 135.0 … 115.0 121.0; 142.0 134.0 … 111.0 117.0; … ; 111.0 95.0 … 132.0 180.0; 107.0 108.0 … 145.0 165.0;;; 137.0 136.0 … 116.0 113.0; 138.0 122.0 … 126.0 129.0; … ; 111.0 107.0 … 157.0 163.0; 118.0 114.0 … 137.0 158.0;;; 132.0 132.0 … 127.0 123.0; 137.0 129.0 … 118.0 114.0; … ; 106.0 107.0 … 152.0 185.0; 118.0 108.0 … 136.0 160.0]])"
      ]
     },
     "metadata": {},
     "output_type": "display_data"
    }
   ],
   "source": [
    "using MAT\n",
    "using GLMakie\n",
    "#getting the adrees of all the files in a folder \n",
    "\n",
    "general_directory = \"/Users/fernandodelgado/Documents/university /summer 2024/intership /data /06-05-24\"\n",
    "\n",
    "names_files = readdir(general_directory,sort=true)\n",
    "x,y = 10, 10\n",
    "function join_dir_names(folder, names)\n",
    "    paths_general = Vector{String}()\n",
    "    data = Vector{Any}()  # Initialize an empty vector\n",
    "    for i in names\n",
    "        path = joinpath(folder, i)  # Join folder and file name\n",
    "        push!(paths_general, path)\n",
    "        open_file = matopen(path)\n",
    "        var = read(open_file, \"ZStack\")\n",
    "        close(open_file)  # Close the file\n",
    "        push!(data, var)\n",
    "    end\n",
    "    return paths_general, data\n",
    "end\n",
    "paths_data, data=join_dir_names(general_directory,names_files)\n",
    "\n"
   ]
  },
  {
   "cell_type": "code",
   "execution_count": 413,
   "metadata": {},
   "outputs": [
    {
     "data": {
      "text/plain": [
       "1"
      ]
     },
     "metadata": {},
     "output_type": "display_data"
    }
   ],
   "source": [
    "#sample = @view data[1][x-8:x+8,y-8:y+8,9]\n",
    "sample=zeros(15,15)\n",
    "#=for i in 10:15\n",
    "    for n in 10:15\n",
    "        sample[n,i]=1\n",
    "    end\n",
    "end\n",
    "=#\n",
    "\n",
    "\n",
    "sample[5,1]=1\n",
    "sample[2,3]=1\n",
    "sample[2,4]=1\n",
    "sample[4,2]=1\n",
    "sample[13,4]=1\n",
    "sample[14,10]=1"
   ]
  },
  {
   "cell_type": "code",
   "execution_count": 414,
   "metadata": {},
   "outputs": [
    {
     "data": {
      "text/plain": [
       "GLMakie.Screen(...)"
      ]
     },
     "metadata": {},
     "output_type": "display_data"
    }
   ],
   "source": [
    "fig = Figure()\n",
    "\n",
    "\n",
    "ax1 = Axis(fig[1, 1], title = \"sample\")\n",
    "ax2 = Axis(fig[1,2],title=\"zoom\")\n",
    "\n",
    "heatmap!(ax1,sample,colormap=:grays)\n",
    "display(fig)"
   ]
  },
  {
   "cell_type": "code",
   "execution_count": 415,
   "metadata": {},
   "outputs": [],
   "source": [
    "using Statistics\n"
   ]
  },
  {
   "cell_type": "code",
   "execution_count": 416,
   "metadata": {},
   "outputs": [
    {
     "data": {
      "text/plain": [
       "15×15 Matrix{Int64}:\n",
       " 1  2  3  4  5  6  7  8  9  10  11  12  13  14  15\n",
       " 1  2  3  4  5  6  7  8  9  10  11  12  13  14  15\n",
       " 1  2  3  4  5  6  7  8  9  10  11  12  13  14  15\n",
       " 1  2  3  4  5  6  7  8  9  10  11  12  13  14  15\n",
       " 1  2  3  4  5  6  7  8  9  10  11  12  13  14  15\n",
       " 1  2  3  4  5  6  7  8  9  10  11  12  13  14  15\n",
       " 1  2  3  4  5  6  7  8  9  10  11  12  13  14  15\n",
       " 1  2  3  4  5  6  7  8  9  10  11  12  13  14  15\n",
       " 1  2  3  4  5  6  7  8  9  10  11  12  13  14  15\n",
       " 1  2  3  4  5  6  7  8  9  10  11  12  13  14  15\n",
       " 1  2  3  4  5  6  7  8  9  10  11  12  13  14  15\n",
       " 1  2  3  4  5  6  7  8  9  10  11  12  13  14  15\n",
       " 1  2  3  4  5  6  7  8  9  10  11  12  13  14  15\n",
       " 1  2  3  4  5  6  7  8  9  10  11  12  13  14  15\n",
       " 1  2  3  4  5  6  7  8  9  10  11  12  13  14  15"
      ]
     },
     "metadata": {},
     "output_type": "display_data"
    }
   ],
   "source": [
    "x_coords = repeat(1:size(sample, 1), outer=(size(sample, 1), 1))\n",
    "y_coords = reshape(repeat([1:size(sample, 1);], inner=(size(sample, 2))), size(sample))\n",
    "\n",
    "#y1_coords = repeat([1:size(sample, 1);], inner=(size(sample, 2)))\n",
    "# Reshape the repeated pattern into a 5x5 array\n",
    "#Y_coords = reshape(repeat([1:size(sample, 1);], inner=(size(sample, 2))), size(sample))\n",
    "\n"
   ]
  },
  {
   "cell_type": "code",
   "execution_count": 417,
   "metadata": {},
   "outputs": [
    {
     "data": {
      "text/plain": [
       "6.0"
      ]
     },
     "metadata": {},
     "output_type": "display_data"
    }
   ],
   "source": [
    "total_mass = sum(sample)"
   ]
  },
  {
   "cell_type": "code",
   "execution_count": null,
   "metadata": {},
   "outputs": [],
   "source": []
  },
  {
   "cell_type": "code",
   "execution_count": 418,
   "metadata": {},
   "outputs": [
    {
     "name": "stdout",
     "output_type": "stream",
     "text": [
      "6.666666666666667 4.0\n"
     ]
    }
   ],
   "source": [
    "center_x_o = sum(x_coords .* sample[:]) / total_mass\n",
    "center_y_o = sum(y_coords .* sample) / total_mass\n",
    "\n",
    "println(center_x_o,\" \",center_y_o)\n"
   ]
  },
  {
   "cell_type": "code",
   "execution_count": 419,
   "metadata": {},
   "outputs": [
    {
     "name": "stdout",
     "output_type": "stream",
     "text": [
      "6.666666666666667 4.0\n"
     ]
    }
   ],
   "source": [
    "x=0\n",
    "y=0\n",
    "\n",
    "for i in size(sample,1):-1:1\n",
    "    for n in 1:size(sample,2)\n",
    "        x+= n*sample[n,i]\n",
    "        y+= i*sample[n,i]\n",
    "    \n",
    "    \n",
    "    end\n",
    "end\n",
    "center_x =  x / total_mass\n",
    "center_y =  y/ total_mass\n",
    "println(center_x,\" \",center_y)"
   ]
  },
  {
   "cell_type": "code",
   "execution_count": null,
   "metadata": {},
   "outputs": [],
   "source": [
    "mouse_pos = Observable(Point2f[])\n",
    "push!(mouse_pos[],[50,50])\n",
    "\n",
    "\n",
    "register_interaction!(ax1, :my_interaction) do event::MouseEvent, axis\n",
    "   \n",
    "    if event.type === MouseEventTypes.leftclick\n",
    "        println(\"$(event.data)\")\n",
    "        push!(mouse_pos[],event.data)\n",
    "        notify(mouse_pos)\n",
    "        \n",
    "        \n",
    "    end\n",
    "end"
   ]
  },
  {
   "cell_type": "code",
   "execution_count": null,
   "metadata": {},
   "outputs": [],
   "source": [
    "zoom=lift(mouse_pos) do x\n",
    "    mouse_x=50\n",
    "    mouse_y=-50\n",
    "    mouse_x=trunc(Int,x[end][1])\n",
    "    mouse_y=trunc(Int,x[end][2])\n",
    "    img_size=[15,15]\n",
    "    x_ax=img_size[1]÷2\n",
    "    y_ax=img_size[2]÷2\n",
    "    y_i,y_f= mouse_y-y_ax ,mouse_y+y_ax\n",
    "    x_i,x_f= mouse_x-x_ax , mouse_x+x_ax\n",
    "    sample[x_i:x_f,y_i:y_f]\n",
    "end"
   ]
  },
  {
   "cell_type": "code",
   "execution_count": null,
   "metadata": {},
   "outputs": [],
   "source": [
    "heatmap!(ax2,zoom,colormap=:grays)"
   ]
  },
  {
   "cell_type": "code",
   "execution_count": null,
   "metadata": {},
   "outputs": [],
   "source": [
    "display(fig)"
   ]
  },
  {
   "cell_type": "code",
   "execution_count": null,
   "metadata": {},
   "outputs": [],
   "source": []
  },
  {
   "cell_type": "code",
   "execution_count": null,
   "metadata": {},
   "outputs": [],
   "source": []
  }
 ],
 "metadata": {
  "kernelspec": {
   "display_name": "Julia 1.10.3",
   "language": "julia",
   "name": "julia-1.10"
  },
  "language_info": {
   "file_extension": ".jl",
   "mimetype": "application/julia",
   "name": "julia",
   "version": "1.10.3"
  }
 },
 "nbformat": 4,
 "nbformat_minor": 2
}
